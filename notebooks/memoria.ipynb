{
 "cells": [
  {
   "cell_type": "markdown",
   "metadata": {},
   "source": [
    "# PROYECTO DE MACHINE LEARNING: PREDICCIÓN DEL NIVEL DE BURNOUT EN EL TRABAJO"
   ]
  },
  {
   "cell_type": "markdown",
   "metadata": {},
   "source": [
    "## TEMA"
   ]
  },
  {
   "cell_type": "markdown",
   "metadata": {},
   "source": [
    "El burnout, o síndrome de desgaste profesional, es un problema creciente en el entorno laboral moderno, caracterizado por un estado de agotamiento físico, emocional y mental causado por el estrés prolongado en el trabajo. Identificar y mitigar el burnout es crucial para mantener el bienestar de los empleados y la productividad de las organizaciones. Este proyecto se centra en desarrollar un modelo de predicción basado en Machine Learning (ML) para evaluar el nivel de burnout en los empleados."
   ]
  },
  {
   "cell_type": "markdown",
   "metadata": {},
   "source": [
    "### Localización de datos"
   ]
  },
  {
   "cell_type": "markdown",
   "metadata": {},
   "source": [
    "A través de https://www.kaggle.com/datasets/blurredmachine/are-your-employees-burning-out"
   ]
  },
  {
   "cell_type": "markdown",
   "metadata": {},
   "source": [
    "## HIPÓTESIS"
   ]
  },
  {
   "cell_type": "markdown",
   "metadata": {},
   "source": [
    "1. Las personas con mayor responsabilidad tendrán más probabilidad de sufrir burnout.\n",
    "2. Las personas que dediquen más horas de trabajo al día y que no dispongan de teletrabajo tendrán más probabilidad de sufrir burnout. \n",
    "3. Las personas dedicadas al sector del servicio tendrán más probabilidad de sufrir burnout que las personas dedicadas al sector de producción. \n",
    "4. Existirá una correlación positiva y significativa entre el nivel de fatiga mental y burnout. \n",
    "5. Se establece como objetivo exploratorio comprobar la posible relación entre género y burnout.\n"
   ]
  },
  {
   "cell_type": "markdown",
   "metadata": {},
   "source": [
    "## Pasos iniciales"
   ]
  },
  {
   "cell_type": "markdown",
   "metadata": {},
   "source": [
    "1. Descargar librerías\n",
    "2. Cargar los datos\n",
    "3. Visualizar los datos:\n",
    "    -  **ID del empleado**: ID único asignado a cada empleado (ejemplo: fffe390032003000).\n",
    "    - **Fecha de ingreso**: La fecha y hora en que el empleado se unió a la organización (ejemplo: 2008-12-30).\n",
    "    - **Género**: El género del empleado (Masculino/Femenino).\n",
    "    - **Tipo de empresa**: El tipo de empresa donde el empleado trabaja (Servicios/Productos).\n",
    "    - **Facilidad para trabajar desde casa**: Indica si el empleado tiene la posibilidad de trabajar desde casa (Sí/No).\n",
    "    - **Designación**: La designación del empleado en la organización, en un rango de [0.0, 5.0], donde un valor más alto indica una designación más alta.\n",
    "    - **Asignación de recursos**: La cantidad de recursos asignados al empleado para trabajar, es decir, el número de horas de trabajo, en un rango de [1.0, 10.0], donde un valor más alto indica más recursos.\n",
    "    - **Puntuación de fatiga mental**: El nivel de fatiga mental que enfrenta el empleado, en un rango de [0.0, 10.0], donde 0.0 significa sin fatiga y 10.0 significa completamente fatigado.\n",
    "    - **Tasa de Burnout**: El valor que necesitamos predecir para cada empleado, indicando la tasa de burnout mientras trabaja, en un rango de [0.0, 1.0], donde un valor más alto indica un mayor nivel de burnout."
   ]
  },
  {
   "cell_type": "markdown",
   "metadata": {},
   "source": [
    "## Limpieza"
   ]
  },
  {
   "cell_type": "markdown",
   "metadata": {},
   "source": [
    "1. Se eliminan las filas que contenga algún valor nulo debido al volumen suficiente de los datos.\n",
    "2. Se renombran las columnas para mayor comprensión.\n",
    "3. Se crea la columna de fecha y de años en la empresa, pero se elimina al ver la poca relevancia de los datos.\n",
    "4. Se codifican las variables object en variables numéricas para el posterior modelado."
   ]
  },
  {
   "cell_type": "markdown",
   "metadata": {},
   "source": [
    "## Split de los datos"
   ]
  },
  {
   "cell_type": "markdown",
   "metadata": {},
   "source": [
    "Se hace un split de train (80%) y test (20%) de la base de datos. "
   ]
  },
  {
   "cell_type": "markdown",
   "metadata": {},
   "source": [
    "## Análisis de variables"
   ]
  },
  {
   "cell_type": "markdown",
   "metadata": {},
   "source": [
    "1. Se observa la distribución de la variable target\n",
    "2. Análisis de la variable 'gender'.  \n",
    "    - Se realiza prueba de Mann-Whitney para ver relación entre género y burnout. Se grafica y comparan los grupos. \n",
    "3. Análisis de la variable 'company'\n",
    "    - Se realiza la prueba de Mann-Whitney para ver la relación entre la compañía y burnout. Se grafica y comparan los grupos.\n",
    "4. Análisis de la variable 'wfh'.  \n",
    "    - Se realiza prueba de Mann-Whitney para ver relación entre el teletrabajo y burnout. Se grafica y comparan los grupos. \n",
    "5. Análisis de la variable 'position'.  \n",
    "    - Se realiza prueba de Kruskal-Wallis para ver relación entre el nivel del puesto de trabajo y burnout. Se grafica y comparan los grupos. \n",
    "6. Análisis de la variable 'allocation'.  \n",
    "    - Se realiza prueba de Kruskal-Wallis para ver relación entre el nivel de carga de trabajo y burnout. Se grafica y comparan los grupos. \n",
    "7. Análisis de la variable 'mentalfatige'\n",
    "    - Se observa la correlación entre la fatiga mental y burnout. \n",
    "    - Se comprueba la correlación con todas las variables.\n",
    "    "
   ]
  },
  {
   "cell_type": "markdown",
   "metadata": {},
   "source": [
    "## Machine learning"
   ]
  },
  {
   "cell_type": "markdown",
   "metadata": {},
   "source": [
    "### Escalado de datos"
   ]
  },
  {
   "cell_type": "markdown",
   "metadata": {},
   "source": [
    "Pese a que los datos tienen sus mínimos y sus máximos en un rango próximo, se realiza MinMaxScaler debido a la sensibilidad de algunos modelos con los que vamos a probar."
   ]
  },
  {
   "cell_type": "markdown",
   "metadata": {},
   "source": [
    "### Linear Regression"
   ]
  },
  {
   "cell_type": "markdown",
   "metadata": {},
   "source": [
    "- Se explora una primera opción de modelo mediante Regresión lineal.\n",
    "- Se observan los coeficientes y features importances \n",
    "- Se entrena\n",
    "- Se prueba con test\n",
    "- Se visualiza gráficamente la distribución de los datos válidos y predichos según el modelo\n",
    "- Se intenta optimizar con regularización \n",
    "- Se guarda el modelo"
   ]
  },
  {
   "cell_type": "markdown",
   "metadata": {},
   "source": [
    "### Random Forest Regressor"
   ]
  },
  {
   "cell_type": "markdown",
   "metadata": {},
   "source": [
    "- Se explora una segunda opción de modelo mediante Random Forest.\n",
    "- Se definen los hiperparámetros: n_estimators, max_depth, min_samples_split, min_samples_leaf, max_featuresy se configurar el Grid Search con validación cruzada.\n",
    "- Se entrena\n",
    "- Se prueba con test\n",
    "- Se guarda el modelo"
   ]
  },
  {
   "cell_type": "markdown",
   "metadata": {},
   "source": [
    "### Otros modelos "
   ]
  },
  {
   "cell_type": "markdown",
   "metadata": {},
   "source": [
    "Debido a la proximidad de los resultados de las métricas de los modelos anteriores, se prueba a comparar los modelos: \n",
    "- Linear Regression\n",
    "- Ridge Regression\n",
    "- Lasso Regression\n",
    "- Decision Tree\n",
    "- Random Forest\n",
    "- Gradient Boosting\n",
    "- XGB Regressor\n",
    "- LGBM Regressor\n",
    "- CatBoost Regressor\n",
    "- KNN\n",
    "- SVR"
   ]
  },
  {
   "cell_type": "markdown",
   "metadata": {},
   "source": [
    "### Oprimización de LGBM Regressor"
   ]
  },
  {
   "cell_type": "markdown",
   "metadata": {},
   "source": [
    "Con criterio de tomar el modelo con el MAE más bajo y el R2 más alto, se intenta optimizar el modelo LGBM \n",
    "\n",
    "- Se grafica el comportamiento de los datos en función del error de predicción\n",
    "- Se observan las features importances\n",
    "- Se guarda el modelo"
   ]
  }
 ],
 "metadata": {
  "language_info": {
   "name": "python"
  }
 },
 "nbformat": 4,
 "nbformat_minor": 2
}
